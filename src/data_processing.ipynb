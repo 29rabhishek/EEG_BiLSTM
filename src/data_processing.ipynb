{
 "cells": [
  {
   "cell_type": "code",
   "execution_count": 1,
   "id": "4c24c538-db3f-4548-a36e-afc5e78bfc0b",
   "metadata": {},
   "outputs": [],
   "source": [
    "import pandas as pd\n",
    "from pathlib import Path\n",
    "import os\n",
    "import numpy as np"
   ]
  },
  {
   "cell_type": "code",
   "execution_count": 2,
   "id": "579dd1cc-3652-48e1-8924-b386aa319136",
   "metadata": {},
   "outputs": [],
   "source": [
    "path1 = Path(os.getcwd()).parents[0]/'data/EEG Channel Map - Sheet2.csv'\n",
    "path2 = Path(os.getcwd()).parents[0]/'data/Mapping of 128 Channel EEG Signal.csv'"
   ]
  },
  {
   "cell_type": "code",
   "execution_count": 3,
   "id": "2090c050-5d49-4c45-ac2d-8f042b040d9e",
   "metadata": {},
   "outputs": [],
   "source": [
    "df_map = pd.read_csv(path1)\n",
    "df_128 = pd.read_csv(path2)"
   ]
  },
  {
   "cell_type": "code",
   "execution_count": 4,
   "id": "3fa41e59-222a-4528-ae5a-9f28c6cec573",
   "metadata": {},
   "outputs": [],
   "source": [
    "df_128.columns = ['Channel_No', 'Location']"
   ]
  },
  {
   "cell_type": "code",
   "execution_count": 5,
   "id": "5c792d9b-12d7-429c-bef9-ff44afc56ab3",
   "metadata": {},
   "outputs": [
    {
     "data": {
      "text/html": [
       "<div>\n",
       "<style scoped>\n",
       "    .dataframe tbody tr th:only-of-type {\n",
       "        vertical-align: middle;\n",
       "    }\n",
       "\n",
       "    .dataframe tbody tr th {\n",
       "        vertical-align: top;\n",
       "    }\n",
       "\n",
       "    .dataframe thead th {\n",
       "        text-align: right;\n",
       "    }\n",
       "</style>\n",
       "<table border=\"1\" class=\"dataframe\">\n",
       "  <thead>\n",
       "    <tr style=\"text-align: right;\">\n",
       "      <th></th>\n",
       "      <th>Left_Channels</th>\n",
       "      <th>Right_Channels</th>\n",
       "      <th>Middle_Channels</th>\n",
       "    </tr>\n",
       "  </thead>\n",
       "  <tbody>\n",
       "    <tr>\n",
       "      <th>0</th>\n",
       "      <td>FP1</td>\n",
       "      <td>FP2</td>\n",
       "      <td>FPZ</td>\n",
       "    </tr>\n",
       "    <tr>\n",
       "      <th>1</th>\n",
       "      <td>AF7</td>\n",
       "      <td>AF8</td>\n",
       "      <td>AFP1</td>\n",
       "    </tr>\n",
       "    <tr>\n",
       "      <th>2</th>\n",
       "      <td>AF3</td>\n",
       "      <td>AF4</td>\n",
       "      <td>AFP2</td>\n",
       "    </tr>\n",
       "    <tr>\n",
       "      <th>3</th>\n",
       "      <td>F9</td>\n",
       "      <td>F10</td>\n",
       "      <td>AFF1H</td>\n",
       "    </tr>\n",
       "    <tr>\n",
       "      <th>4</th>\n",
       "      <td>AFF5H</td>\n",
       "      <td>AFF6H</td>\n",
       "      <td>AFF2H</td>\n",
       "    </tr>\n",
       "  </tbody>\n",
       "</table>\n",
       "</div>"
      ],
      "text/plain": [
       "  Left_Channels Right_Channels Middle_Channels\n",
       "0           FP1            FP2             FPZ\n",
       "1           AF7            AF8            AFP1\n",
       "2           AF3            AF4            AFP2\n",
       "3            F9            F10           AFF1H\n",
       "4         AFF5H          AFF6H           AFF2H"
      ]
     },
     "execution_count": 5,
     "metadata": {},
     "output_type": "execute_result"
    }
   ],
   "source": [
    "df_map.head()"
   ]
  },
  {
   "cell_type": "code",
   "execution_count": 6,
   "id": "63bcec15-1d32-4cf9-89db-c849ab4f4205",
   "metadata": {},
   "outputs": [
    {
     "data": {
      "text/html": [
       "<div>\n",
       "<style scoped>\n",
       "    .dataframe tbody tr th:only-of-type {\n",
       "        vertical-align: middle;\n",
       "    }\n",
       "\n",
       "    .dataframe tbody tr th {\n",
       "        vertical-align: top;\n",
       "    }\n",
       "\n",
       "    .dataframe thead th {\n",
       "        text-align: right;\n",
       "    }\n",
       "</style>\n",
       "<table border=\"1\" class=\"dataframe\">\n",
       "  <thead>\n",
       "    <tr style=\"text-align: right;\">\n",
       "      <th></th>\n",
       "      <th>Channel_No</th>\n",
       "      <th>Location</th>\n",
       "    </tr>\n",
       "  </thead>\n",
       "  <tbody>\n",
       "    <tr>\n",
       "      <th>0</th>\n",
       "      <td>1</td>\n",
       "      <td>FP1</td>\n",
       "    </tr>\n",
       "    <tr>\n",
       "      <th>1</th>\n",
       "      <td>2</td>\n",
       "      <td>FP2</td>\n",
       "    </tr>\n",
       "    <tr>\n",
       "      <th>2</th>\n",
       "      <td>3</td>\n",
       "      <td>F7</td>\n",
       "    </tr>\n",
       "    <tr>\n",
       "      <th>3</th>\n",
       "      <td>4</td>\n",
       "      <td>F3</td>\n",
       "    </tr>\n",
       "    <tr>\n",
       "      <th>4</th>\n",
       "      <td>5</td>\n",
       "      <td>FZ</td>\n",
       "    </tr>\n",
       "  </tbody>\n",
       "</table>\n",
       "</div>"
      ],
      "text/plain": [
       "   Channel_No Location\n",
       "0           1      FP1\n",
       "1           2      FP2\n",
       "2           3       F7\n",
       "3           4       F3\n",
       "4           5       FZ"
      ]
     },
     "execution_count": 6,
     "metadata": {},
     "output_type": "execute_result"
    }
   ],
   "source": [
    "df_128.head()"
   ]
  },
  {
   "cell_type": "code",
   "execution_count": 7,
   "id": "a486c856-4c5b-4d44-8b64-63325ae1bfa5",
   "metadata": {},
   "outputs": [],
   "source": [
    "df_LeftChannel = df_map[['Left_Channels']]\n",
    "df_RightChannel = df_map[['Right_Channels']]\n",
    "df_MiddleChannel = df_map[['Middle_Channels']]"
   ]
  },
  {
   "cell_type": "code",
   "execution_count": 8,
   "id": "79477ee0-c37e-41be-92f5-0a4d92f58508",
   "metadata": {},
   "outputs": [
    {
     "data": {
      "text/plain": [
       "Middle_Channels    0\n",
       "dtype: int64"
      ]
     },
     "execution_count": 8,
     "metadata": {},
     "output_type": "execute_result"
    }
   ],
   "source": [
    "df_MiddleChannel.isna().sum()"
   ]
  },
  {
   "cell_type": "code",
   "execution_count": 9,
   "id": "7a569ef9-c901-4b4c-8450-6f1ba6aa093b",
   "metadata": {},
   "outputs": [
    {
     "name": "stdout",
     "output_type": "stream",
     "text": [
      "leftChannel len: 42\n",
      "RightChannel len: 42\n"
     ]
    }
   ],
   "source": [
    "print(f\"leftChannel len: {df_LeftChannel.shape[0]}\")\n",
    "print(f\"RightChannel len: {df_RightChannel.shape[0]}\")\n",
    "# print(f\"MiddleChannel len: {df_MiddleChannel.shape[0]}\")"
   ]
  },
  {
   "cell_type": "code",
   "execution_count": 10,
   "id": "be0bf98c-58ff-4a14-8408-832c5879064e",
   "metadata": {},
   "outputs": [
    {
     "data": {
      "text/html": [
       "<div>\n",
       "<style scoped>\n",
       "    .dataframe tbody tr th:only-of-type {\n",
       "        vertical-align: middle;\n",
       "    }\n",
       "\n",
       "    .dataframe tbody tr th {\n",
       "        vertical-align: top;\n",
       "    }\n",
       "\n",
       "    .dataframe thead th {\n",
       "        text-align: right;\n",
       "    }\n",
       "</style>\n",
       "<table border=\"1\" class=\"dataframe\">\n",
       "  <thead>\n",
       "    <tr style=\"text-align: right;\">\n",
       "      <th></th>\n",
       "      <th>Left_Channels</th>\n",
       "    </tr>\n",
       "  </thead>\n",
       "  <tbody>\n",
       "    <tr>\n",
       "      <th>0</th>\n",
       "      <td>FP1</td>\n",
       "    </tr>\n",
       "    <tr>\n",
       "      <th>1</th>\n",
       "      <td>AF7</td>\n",
       "    </tr>\n",
       "    <tr>\n",
       "      <th>2</th>\n",
       "      <td>AF3</td>\n",
       "    </tr>\n",
       "    <tr>\n",
       "      <th>3</th>\n",
       "      <td>F9</td>\n",
       "    </tr>\n",
       "    <tr>\n",
       "      <th>4</th>\n",
       "      <td>AFF5H</td>\n",
       "    </tr>\n",
       "  </tbody>\n",
       "</table>\n",
       "</div>"
      ],
      "text/plain": [
       "  Left_Channels\n",
       "0           FP1\n",
       "1           AF7\n",
       "2           AF3\n",
       "3            F9\n",
       "4         AFF5H"
      ]
     },
     "execution_count": 10,
     "metadata": {},
     "output_type": "execute_result"
    }
   ],
   "source": [
    "df_LeftChannel.head()"
   ]
  },
  {
   "cell_type": "code",
   "execution_count": 11,
   "id": "453a403c-05b3-45ee-b7bb-79862815b513",
   "metadata": {},
   "outputs": [],
   "source": [
    "df_LeftChannel = pd.merge(df_LeftChannel, df_128, left_on = 'Left_Channels', right_on = 'Location')[['Location', 'Channel_No']]\n",
    "df_RightChannel = pd.merge(df_RightChannel, df_128, left_on = 'Right_Channels', right_on = 'Location')[['Location', 'Channel_No']]\n",
    "df_MiddleChannel = pd.merge(df_MiddleChannel, df_128, left_on = 'Middle_Channels', right_on = 'Location')[['Location', 'Channel_No']]"
   ]
  },
  {
   "cell_type": "code",
   "execution_count": 12,
   "id": "c4fdffc3-dd9d-480d-88c9-6319c55510ec",
   "metadata": {},
   "outputs": [
    {
     "data": {
      "text/plain": [
       "{'OI1H', 'OI2H'}"
      ]
     },
     "execution_count": 12,
     "metadata": {},
     "output_type": "execute_result"
    }
   ],
   "source": [
    "set(df_128['Location']) - set(df_LeftChannel['Location']) - set(df_RightChannel['Location']) -set(df_MiddleChannel['Location'])"
   ]
  },
  {
   "cell_type": "code",
   "execution_count": 13,
   "id": "b89a8b5b-dc69-40ee-9e21-1858c64feb83",
   "metadata": {},
   "outputs": [
    {
     "data": {
      "text/plain": [
       "set()"
      ]
     },
     "execution_count": 13,
     "metadata": {},
     "output_type": "execute_result"
    }
   ],
   "source": [
    "(set(df_map['Left_Channels']) | set(df_map['Right_Channels']) | set(df_map['Middle_Channels'])) - set(df_128['Location'])"
   ]
  },
  {
   "cell_type": "code",
   "execution_count": 30,
   "id": "8c45ac26-caa5-4be9-a873-44768e4c0e1f",
   "metadata": {},
   "outputs": [],
   "source": [
    "Channel_lateralization_map = pd.concat([df_LeftChannel, df_RightChannel, df_MiddleChannel], axis = 1)\n",
    "Channel_lateralization_map = Channel_lateralization_map.drop(columns = [\"Location\"])\n",
    "Channel_lateralization_map = np.array(Channel_lateralization_map)\n",
    "np.save(\"Channel_lateralization_map.npy\", Channel_lateralization_map)"
   ]
  },
  {
   "cell_type": "code",
   "execution_count": null,
   "id": "e17364fe-c4dd-4b2f-bb1c-82b52c421930",
   "metadata": {},
   "outputs": [],
   "source": []
  },
  {
   "cell_type": "markdown",
   "id": "ed70a0a2-df0a-4a3b-add7-0efd68eb4896",
   "metadata": {},
   "source": []
  },
  {
   "cell_type": "code",
   "execution_count": 21,
   "id": "1e1ca414-532e-4b4e-a257-628fa2af85a9",
   "metadata": {},
   "outputs": [],
   "source": []
  },
  {
   "cell_type": "code",
   "execution_count": null,
   "id": "140c861a-99e3-4ea9-b1ff-d563ae2e8023",
   "metadata": {},
   "outputs": [],
   "source": []
  }
 ],
 "metadata": {
  "kernelspec": {
   "display_name": "Python 3 (ipykernel)",
   "language": "python",
   "name": "python3"
  },
  "language_info": {
   "codemirror_mode": {
    "name": "ipython",
    "version": 3
   },
   "file_extension": ".py",
   "mimetype": "text/x-python",
   "name": "python",
   "nbconvert_exporter": "python",
   "pygments_lexer": "ipython3",
   "version": "3.11.7"
  }
 },
 "nbformat": 4,
 "nbformat_minor": 5
}
