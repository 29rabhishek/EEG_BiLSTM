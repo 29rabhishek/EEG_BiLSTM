{
 "cells": [
  {
   "cell_type": "code",
   "execution_count": 1,
   "id": "d165edd2-f422-46de-b66d-227b09cce4bb",
   "metadata": {},
   "outputs": [],
   "source": [
    "import torch\n",
    "import pickle\n",
    "import os\n",
    "from pathlib import Path\n",
    "from config import get_config\n",
    "from data_setup import train_test_dataloader\n",
    "from model import build_model, Feature_Encoding"
   ]
  },
  {
   "cell_type": "code",
   "execution_count": 6,
   "id": "000990e1-fa78-410e-83a5-3f3c0cd68cfa",
   "metadata": {},
   "outputs": [],
   "source": [
    "# loading checkpoint\n",
    "path_to_model = Path(os.getcwd()).parents[0]/\"data/unstacked/encoding_checkpoint_15_02_2350.pth\"\n",
    "checkpoint = torch.load(path_to_model)"
   ]
  },
  {
   "cell_type": "code",
   "execution_count": 7,
   "id": "4979059f-d3cf-4ef1-90a9-b3196c96fb13",
   "metadata": {},
   "outputs": [
    {
     "data": {
      "text/plain": [
       "<All keys matched successfully>"
      ]
     },
     "execution_count": 7,
     "metadata": {},
     "output_type": "execute_result"
    }
   ],
   "source": [
    "## loading Model with checkpoint and extracting fetures from ReLU layer\n",
    "config = get_config()\n",
    "model = Feature_Encoding(**config[\"Encoding_parameters\"])\n",
    "model.load_state_dict(checkpoint[\"encoding\"])"
   ]
  },
  {
   "cell_type": "code",
   "execution_count": 35,
   "id": "309b3d9a-a1a5-4938-a763-7a3d18144ca2",
   "metadata": {},
   "outputs": [],
   "source": [
    "# defining forward hook to extract features\n",
    "features = {}\n",
    "def getFeatures(layer = \"activation_layer\"):\n",
    "    def hook(model, input, output):\n",
    "        features[layer] = output.detach()\n",
    "    return hook"
   ]
  },
  {
   "cell_type": "code",
   "execution_count": 16,
   "id": "c62126a5-3670-47da-a880-642faae99817",
   "metadata": {},
   "outputs": [],
   "source": [
    "## Extracting Features through last Layer -> ICA"
   ]
  },
  {
   "cell_type": "code",
   "execution_count": 27,
   "id": "4a95dc84-2b23-457b-ba67-c3f9348507c3",
   "metadata": {},
   "outputs": [],
   "source": [
    "h = model.activation_layer.register_forward_hook(getFeatures())"
   ]
  },
  {
   "cell_type": "code",
   "execution_count": null,
   "id": "0307404f-b891-4cc0-a897-cb0e323e0aef",
   "metadata": {},
   "outputs": [],
   "source": [
    "# laoding train and test data"
   ]
  },
  {
   "cell_type": "code",
   "execution_count": 37,
   "id": "6776fb8c-49aa-44ae-804e-68f0c2e45674",
   "metadata": {},
   "outputs": [],
   "source": [
    "train_test_path = Path(os.getcwd()).parents[0]/\"data/train_test_data.pkl\"\n",
    "with open(train_test_path, \"rb\") as f:\n",
    "    train_test_data = pickle.load(f)"
   ]
  },
  {
   "cell_type": "code",
   "execution_count": 40,
   "id": "e52c8000-eaf9-4185-85ca-f223758b7f70",
   "metadata": {},
   "outputs": [
    {
     "name": "stdout",
     "output_type": "stream",
     "text": [
      "X Train: torch.Size([8375, 440, 85]) || X Test: torch.Size([3589, 440, 85])\n"
     ]
    }
   ],
   "source": [
    "X_train = torch.tensor(train_test_data[\"train\"][\"X\"])\n",
    "X_test = torch.tensor(train_test_data[\"test\"][\"X\"])\n",
    "print(f\"X Train: {X_train.shape} || X Test: {X_test.shape}\")"
   ]
  },
  {
   "cell_type": "code",
   "execution_count": null,
   "id": "510a353e-649e-4386-b693-957f5048bbf2",
   "metadata": {},
   "outputs": [],
   "source": [
    "# Extracting Features for Train data"
   ]
  },
  {
   "cell_type": "code",
   "execution_count": 44,
   "id": "26924f52-aefc-4d1c-9fb9-140b2747ead9",
   "metadata": {},
   "outputs": [],
   "source": [
    "_ = model(X_train)\n",
    "X_train_features = features[\"activation_layer\"]"
   ]
  },
  {
   "cell_type": "code",
   "execution_count": null,
   "id": "216dadf0-10a5-4a02-9404-d91e400372b1",
   "metadata": {},
   "outputs": [],
   "source": [
    "# Extracting Features from Test data"
   ]
  },
  {
   "cell_type": "code",
   "execution_count": 45,
   "id": "848c8457-d547-43d2-826d-d3838b8f0e0a",
   "metadata": {},
   "outputs": [],
   "source": [
    "_ = model(X_test)\n",
    "X_test_features = features[\"activation_layer\"]"
   ]
  },
  {
   "cell_type": "code",
   "execution_count": 56,
   "id": "47947d5f-f9a0-4a55-ba0f-948dffcab17a",
   "metadata": {},
   "outputs": [],
   "source": [
    "train_test_features = {\n",
    "    \"train\": {\n",
    "        \"X\" : X_train_features.numpy(),\n",
    "        \"y\": train_test_data[\"train\"][\"y\"]\n",
    "    },\n",
    "    \"test\":{\n",
    "        \"X\" : X_test_features.numpy(),\n",
    "        \"y\": train_test_data[\"test\"][\"y\"]\n",
    "    }\n",
    "}"
   ]
  },
  {
   "cell_type": "code",
   "execution_count": 58,
   "id": "2e217466-fb3d-4bef-81c3-3939a0fa6b83",
   "metadata": {},
   "outputs": [],
   "source": [
    "with open(Path(os.getcwd()).parents[0]/\"data/train_test_features.pkl\", \"wb\") as f:\n",
    "    pickle.dump(train_test_features, f)"
   ]
  },
  {
   "cell_type": "code",
   "execution_count": null,
   "id": "49cbe448-1644-4812-b0db-480ee05450a9",
   "metadata": {},
   "outputs": [],
   "source": []
  }
 ],
 "metadata": {
  "kernelspec": {
   "display_name": "Python 3 (ipykernel)",
   "language": "python",
   "name": "python3"
  },
  "language_info": {
   "codemirror_mode": {
    "name": "ipython",
    "version": 3
   },
   "file_extension": ".py",
   "mimetype": "text/x-python",
   "name": "python",
   "nbconvert_exporter": "python",
   "pygments_lexer": "ipython3",
   "version": "3.11.7"
  }
 },
 "nbformat": 4,
 "nbformat_minor": 5
}
