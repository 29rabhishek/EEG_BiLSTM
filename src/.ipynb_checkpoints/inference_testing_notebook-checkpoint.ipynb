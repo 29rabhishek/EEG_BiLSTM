{
 "cells": [
  {
   "cell_type": "code",
   "execution_count": 1,
   "id": "1745456a-1fcf-4e57-b56e-5342e2512af2",
   "metadata": {},
   "outputs": [],
   "source": [
    "import torch\n",
    "from torch.optim import Adam, lr_scheduler\n",
    "from torch.nn import CrossEntropyLoss\n",
    "from sample_data_gen import create_test_data\n",
    "from data_setup import train_test_dataloader\n",
    "from model import Feature_Encoding, Classification_Model_Softmax\n",
    "from train import train_engin"
   ]
  },
  {
   "cell_type": "code",
   "execution_count": 16,
   "id": "721285c3-9b96-4105-a093-989ffd88d8bd",
   "metadata": {},
   "outputs": [
    {
     "name": "stdout",
     "output_type": "stream",
     "text": [
      "Feature Extraction Module Output Shape(No. Feature): 5\n"
     ]
    }
   ],
   "source": [
    "# device = 'cuda' if torch.cuda.is_available() else 'cpu'\n",
    "device = 'cpu'\n",
    "NUM_CLASESS = 4\n",
    "NUM_EPOCHS = 10\n",
    "BATCH_SIZE = 32\n",
    "LEARNING_RATE = 0.001\n",
    "left_hms = [1,3,6] #left_hemisphere\n",
    "right_hms = [0,2,5] #right_hemisphere\n",
    "middle_hms = [8, 9] #middle_hemisphere\n",
    "feature_extraction_shape = len(left_hms)+len(middle_hms)\n",
    "print(f'Feature Extraction Module Output Shape(No. Feature): {feature_extraction_shape}')"
   ]
  },
  {
   "cell_type": "code",
   "execution_count": 3,
   "id": "a49dc0fb-07d1-4496-805a-e4c34e107573",
   "metadata": {},
   "outputs": [],
   "source": [
    "if len(left_hms) != len(right_hms):\n",
    "    raise Exception(f\"left_hms len: {len(left_hms)} != right_hms len: {len(right_hms)}\")\n",
    "\n",
    "# input size for BiLSTM/LSTM in Feature Encoding Module\n",
    "feature_enc_module_input_size =  len(left_hms)+len(right_hms)"
   ]
  },
  {
   "cell_type": "code",
   "execution_count": 4,
   "id": "bf4846e0-0658-4d1e-8bc2-e674f85a4a67",
   "metadata": {},
   "outputs": [
    {
     "name": "stdout",
     "output_type": "stream",
     "text": [
      "Train Size: 52 || Test Size: 12 \n"
     ]
    }
   ],
   "source": [
    "sample_x, sample_y = create_test_data(n_samples = 64, n_channels = 12, n_timeStep = 24, n_classes = NUM_CLASESS)\n",
    "train_dataloader, test_dataloader = train_test_dataloader(sample_x, sample_y, 0.2, BATCH_SIZE)"
   ]
  },
  {
   "cell_type": "code",
   "execution_count": 17,
   "id": "f200d85a-e7a1-4930-8c5e-b4eca1ac8c7e",
   "metadata": {},
   "outputs": [],
   "source": [
    "# Model parameter of Feature_Encoding Module\n",
    "\n",
    "# input size for BiLSTM/LSTM in Feature Encoding Module\n",
    "lstm_input_size =  feature_extraction_shape\n",
    "fcn_out_features = 5\n",
    "lstm_hidden_size = 5\n",
    "lstm_num_layer = 1\n",
    "lstm_config = \"LSTM\"\n",
    "\n",
    "cls_model_input = fcn_out_features\n",
    "cls_model_output = NUM_CLASESS\n",
    "feature_encoding_model = Feature_Encoding(\n",
    "    lstm_input_size = lstm_input_size,\n",
    "    fcn_out_features = fcn_out_features,\n",
    "    lstm_hidden_size = lstm_hidden_size ,\n",
    "    lstm_num_layer = lstm_num_layer,\n",
    "    lstm_config = lstm_config\n",
    "    )\n",
    "\n",
    "cls_model = Classification_Model_Softmax(input_size = fcn_out_features, output_size = NUM_CLASESS)"
   ]
  },
  {
   "cell_type": "code",
   "execution_count": 18,
   "id": "5eb91d59-7106-44c0-9b55-ba66386eef45",
   "metadata": {},
   "outputs": [
    {
     "data": {
      "text/plain": [
       "5"
      ]
     },
     "execution_count": 18,
     "metadata": {},
     "output_type": "execute_result"
    }
   ],
   "source": [
    "lstm_input_size"
   ]
  },
  {
   "cell_type": "code",
   "execution_count": 19,
   "id": "a8c16064-85c3-49e3-985c-c492449234a0",
   "metadata": {},
   "outputs": [
    {
     "data": {
      "application/vnd.jupyter.widget-view+json": {
       "model_id": "5960f4178acb45b18f17670ab2a2a7ed",
       "version_major": 2,
       "version_minor": 0
      },
      "text/plain": [
       "  0%|          | 0/10 [00:00<?, ?it/s]"
      ]
     },
     "metadata": {},
     "output_type": "display_data"
    },
    {
     "name": "stdout",
     "output_type": "stream",
     "text": [
      "Epoch: 1 | train_loss: 1.3848 | train_acc: 0.2406 | test_loss: 1.3643 | test_acc: 0.3333\n",
      "Epoch: 2 | train_loss: 1.3846 | train_acc: 0.2406 | test_loss: 1.3644 | test_acc: 0.3333\n",
      "Epoch: 3 | train_loss: 1.3844 | train_acc: 0.2406 | test_loss: 1.3644 | test_acc: 0.3333\n",
      "Epoch: 4 | train_loss: 1.3843 | train_acc: 0.2406 | test_loss: 1.3644 | test_acc: 0.3333\n",
      "Epoch: 5 | train_loss: 1.3842 | train_acc: 0.2406 | test_loss: 1.3644 | test_acc: 0.3333\n",
      "Epoch: 6 | train_loss: 1.3840 | train_acc: 0.2406 | test_loss: 1.3645 | test_acc: 0.3333\n",
      "Epoch: 7 | train_loss: 1.3839 | train_acc: 0.2406 | test_loss: 1.3645 | test_acc: 0.3333\n",
      "Epoch: 8 | train_loss: 1.3837 | train_acc: 0.2406 | test_loss: 1.3645 | test_acc: 0.3333\n",
      "Epoch: 9 | train_loss: 1.3836 | train_acc: 0.2406 | test_loss: 1.3645 | test_acc: 0.3333\n",
      "Epoch: 10 | train_loss: 1.3834 | train_acc: 0.2406 | test_loss: 1.3645 | test_acc: 0.3333\n"
     ]
    }
   ],
   "source": [
    "loss_fn =  CrossEntropyLoss()\n",
    "optimizer = Adam(params=list(feature_encoding_model.parameters())+ list(cls_model.parameters()), lr = LEARNING_RATE)\n",
    "scheduler = lr_scheduler.ExponentialLR(optimizer=optimizer, gamma=0.9)\n",
    "hist_dict = train_engin(\n",
    "    epochs=NUM_EPOCHS,\n",
    "    train_dataloader=train_dataloader,\n",
    "    test_dataloader=test_dataloader,\n",
    "    feature_encoding_model=feature_encoding_model,\n",
    "    cls_model=cls_model,\n",
    "    optimizer=optimizer,\n",
    "    scheduler = scheduler,\n",
    "    loss_fn=loss_fn,\n",
    "    device=device,\n",
    "    left_hms=left_hms,\n",
    "    right_hms=right_hms,\n",
    "    middle_hms=middle_hms,\n",
    "    ica_model = None\n",
    ")"
   ]
  },
  {
   "cell_type": "code",
   "execution_count": null,
   "id": "ba61a5b3-e848-44a3-b898-17c9c3309917",
   "metadata": {},
   "outputs": [],
   "source": []
  },
  {
   "cell_type": "markdown",
   "id": "1cc05b99-137a-4e5f-8a2c-51a49b3820eb",
   "metadata": {},
   "source": [
    "## Saving Param"
   ]
  },
  {
   "cell_type": "code",
   "execution_count": 20,
   "id": "c1943805-1044-4084-a2ca-bdcbcce32c3d",
   "metadata": {},
   "outputs": [
    {
     "name": "stdout",
     "output_type": "stream",
     "text": [
      "Stack_BiLstm_layer.weight_ih_l0 \t torch.Size([20, 5])\n",
      "Stack_BiLstm_layer.weight_hh_l0 \t torch.Size([20, 5])\n",
      "Stack_BiLstm_layer.bias_ih_l0 \t torch.Size([20])\n",
      "Stack_BiLstm_layer.bias_hh_l0 \t torch.Size([20])\n",
      "fcn_layer.weight \t torch.Size([5, 5])\n",
      "fcn_layer.bias \t torch.Size([5])\n"
     ]
    }
   ],
   "source": [
    "for param_tensor in feature_encoding_model.state_dict():\n",
    "    print(param_tensor,'\\t', feature_encoding_model.state_dict()[param_tensor].size())"
   ]
  },
  {
   "cell_type": "code",
   "execution_count": 35,
   "id": "bbb1050e-ddcf-456e-a351-732ed3470424",
   "metadata": {},
   "outputs": [
    {
     "data": {
      "text/plain": [
       "{0: {'step': tensor(20.),\n",
       "  'exp_avg': tensor([[ 4.4166e-05,  2.0863e-04, -2.1020e-04, -1.0334e-04, -2.0298e-04],\n",
       "          [-1.6358e-04,  3.6302e-04, -1.2466e-04,  1.0502e-04, -7.0078e-05],\n",
       "          [ 4.5809e-04, -2.7286e-04,  1.1171e-03,  7.2438e-05,  5.9811e-04],\n",
       "          [ 3.7211e-04,  1.4775e-04, -4.1444e-05,  4.2589e-05,  7.0058e-05],\n",
       "          [ 5.0298e-04,  1.8783e-05,  3.0962e-04, -2.4542e-04,  8.2916e-05],\n",
       "          [-1.1822e-04, -2.6569e-04,  9.6504e-05,  8.1808e-05,  2.0080e-04],\n",
       "          [ 5.7762e-04,  3.4564e-04,  1.5972e-04,  2.3451e-04,  7.9128e-05],\n",
       "          [ 1.7957e-04,  1.3651e-05,  7.1683e-04, -2.6674e-04,  5.0010e-04],\n",
       "          [-2.4371e-04, -1.8396e-04, -8.5615e-06,  9.2796e-05, -5.6790e-05],\n",
       "          [ 8.6226e-05,  4.5679e-05,  3.0170e-04,  6.6351e-06,  1.7487e-06],\n",
       "          [-5.8650e-04, -7.6752e-04, -9.7879e-04,  9.5795e-04, -3.7918e-04],\n",
       "          [ 1.8058e-03,  5.8944e-04,  1.3579e-03, -8.5879e-04,  5.0757e-04],\n",
       "          [-1.3719e-03, -1.4517e-03,  5.5120e-04,  2.5421e-03,  3.8496e-05],\n",
       "          [ 6.0934e-04,  6.8672e-05, -1.1903e-05, -1.6130e-04,  6.9802e-05],\n",
       "          [-1.2405e-04,  4.3085e-04,  6.2210e-04,  9.3416e-06, -7.7492e-05],\n",
       "          [-9.8260e-05,  4.6018e-05, -5.3634e-04, -1.1582e-04, -3.7646e-04],\n",
       "          [-1.5010e-04,  5.9274e-04, -1.3514e-04,  3.2946e-04, -2.2855e-04],\n",
       "          [ 2.8885e-04, -2.0935e-04,  8.3980e-04, -2.2084e-04,  3.2511e-04],\n",
       "          [ 8.8482e-05,  1.0519e-04,  3.2741e-06,  1.4832e-04,  8.7364e-05],\n",
       "          [ 6.0674e-04,  2.2307e-04,  6.0915e-04, -2.5014e-04,  1.5659e-04]]),\n",
       "  'exp_avg_sq': tensor([[1.8965e-09, 1.3162e-09, 2.9703e-09, 3.6019e-09, 1.6619e-09],\n",
       "          [1.8626e-09, 4.1295e-09, 9.5582e-10, 4.9415e-10, 3.2584e-10],\n",
       "          [6.0175e-09, 3.7383e-08, 4.0036e-08, 4.4576e-09, 1.6096e-08],\n",
       "          [4.8282e-09, 4.0842e-09, 5.0557e-09, 9.4248e-10, 1.1976e-09],\n",
       "          [7.1506e-09, 5.6786e-09, 2.6785e-09, 1.6057e-09, 3.0000e-09],\n",
       "          [1.7897e-09, 1.8178e-09, 5.9170e-10, 3.8768e-10, 1.0292e-09],\n",
       "          [8.5085e-09, 4.8141e-09, 3.2336e-09, 1.4675e-09, 8.0550e-10],\n",
       "          [1.3718e-09, 1.8523e-11, 1.2639e-08, 4.3784e-09, 6.9620e-09],\n",
       "          [1.6423e-09, 4.2827e-09, 7.4769e-10, 7.7030e-10, 9.7732e-11],\n",
       "          [3.0783e-10, 4.4209e-10, 2.3916e-09, 1.3611e-11, 6.6755e-11],\n",
       "          [1.1630e-08, 5.4437e-08, 3.3854e-08, 2.3107e-08, 1.3768e-08],\n",
       "          [9.8686e-08, 1.0232e-07, 5.3919e-07, 2.6684e-08, 8.2022e-08],\n",
       "          [7.8480e-08, 1.8933e-07, 2.8603e-07, 2.2673e-07, 2.8638e-08],\n",
       "          [1.0104e-08, 2.8686e-08, 4.1851e-09, 1.3970e-08, 1.9209e-10],\n",
       "          [1.5258e-09, 5.2628e-09, 1.0152e-08, 9.0498e-10, 9.1290e-10],\n",
       "          [6.8815e-10, 1.0953e-09, 6.9634e-09, 2.8749e-09, 5.2499e-09],\n",
       "          [5.2297e-09, 1.8446e-08, 5.4704e-10, 4.3800e-09, 1.3946e-09],\n",
       "          [2.9997e-09, 7.7366e-09, 2.3247e-08, 1.2779e-09, 3.9243e-09],\n",
       "          [5.0204e-09, 2.2186e-09, 1.3335e-09, 9.3471e-10, 8.2804e-10],\n",
       "          [9.8706e-09, 2.1535e-09, 9.5827e-09, 2.1007e-09, 2.5495e-09]])},\n",
       " 1: {'step': tensor(20.),\n",
       "  'exp_avg': tensor([[ 2.6376e-06, -2.5617e-05,  5.3971e-06,  2.1198e-05, -1.4105e-05],\n",
       "          [-3.4277e-05, -2.0752e-05,  4.4855e-05,  2.6669e-05, -2.0383e-05],\n",
       "          [ 6.4566e-05, -3.5616e-05,  4.3372e-05, -2.0953e-05, -2.4037e-05],\n",
       "          [-8.2578e-07, -1.7657e-06,  1.4826e-05,  2.8978e-05, -6.4208e-05],\n",
       "          [-6.0671e-06,  3.0206e-05, -1.1592e-05, -7.8908e-06,  5.4863e-05],\n",
       "          [-3.6290e-05, -2.7546e-05,  1.6017e-05,  6.9973e-06,  2.6689e-05],\n",
       "          [ 1.9110e-05, -5.0264e-05, -2.2059e-05, -1.7076e-05,  1.1547e-05],\n",
       "          [ 6.7048e-06, -7.2918e-05,  8.1298e-05,  5.5693e-05,  1.5394e-05],\n",
       "          [-1.7465e-05,  1.8385e-05,  3.4239e-05, -1.8299e-05, -3.6950e-05],\n",
       "          [-1.6346e-05,  1.3851e-05, -1.4651e-05, -2.7574e-05,  3.6763e-05],\n",
       "          [-3.4772e-06, -2.7448e-05, -1.2875e-04,  9.7605e-05, -3.3604e-05],\n",
       "          [-6.9817e-06, -7.4849e-05,  2.4249e-04, -8.1128e-05, -3.1524e-05],\n",
       "          [ 2.5676e-04,  1.1343e-05, -5.3159e-04,  7.4494e-05, -1.3267e-05],\n",
       "          [ 3.6198e-05, -1.9080e-05, -2.1983e-05,  6.8773e-05,  5.6092e-05],\n",
       "          [ 4.8162e-06, -1.3532e-05, -8.2310e-05, -2.5030e-05,  1.6808e-05],\n",
       "          [-4.0230e-05, -5.0145e-05,  3.2804e-05,  5.6970e-05, -3.3399e-05],\n",
       "          [ 2.1321e-05, -5.8428e-05,  1.5893e-04,  6.6406e-05, -1.6063e-05],\n",
       "          [ 1.8226e-05, -3.2326e-05,  3.8254e-05, -2.3378e-05,  8.0753e-05],\n",
       "          [ 9.7717e-06, -4.4488e-05,  4.9434e-05,  2.4466e-05, -4.3147e-05],\n",
       "          [-1.0580e-05,  1.6512e-05, -1.8462e-05, -2.2265e-05,  7.2984e-05]]),\n",
       "  'exp_avg_sq': tensor([[4.1418e-11, 5.5893e-11, 5.1205e-11, 2.8274e-11, 6.2940e-11],\n",
       "          [3.8458e-11, 3.2146e-11, 1.0541e-10, 3.0132e-11, 1.1180e-11],\n",
       "          [1.9688e-10, 1.4656e-10, 4.2675e-10, 3.6898e-11, 2.3067e-10],\n",
       "          [2.7483e-13, 1.6070e-12, 3.2087e-11, 3.1210e-11, 1.0259e-10],\n",
       "          [4.8079e-12, 3.4045e-11, 3.0548e-11, 9.4455e-11, 9.8285e-11],\n",
       "          [1.3972e-10, 2.3893e-11, 2.4834e-11, 3.6350e-12, 5.3968e-11],\n",
       "          [8.0630e-11, 9.9324e-11, 6.3732e-11, 6.9872e-11, 5.5450e-12],\n",
       "          [3.3476e-10, 1.7745e-10, 4.0291e-10, 7.5309e-11, 6.4161e-10],\n",
       "          [1.4133e-11, 1.3882e-11, 1.0593e-10, 6.7877e-11, 4.3328e-11],\n",
       "          [1.2855e-11, 1.4507e-11, 6.3463e-12, 2.7288e-11, 5.4411e-11],\n",
       "          [9.6551e-11, 3.7149e-11, 7.7396e-10, 9.1526e-10, 1.0224e-09],\n",
       "          [1.8877e-10, 1.4880e-10, 6.5940e-09, 3.0651e-09, 5.5801e-09],\n",
       "          [6.0389e-09, 1.9175e-09, 1.3602e-08, 8.9117e-09, 4.2419e-09],\n",
       "          [8.0629e-10, 3.9894e-11, 1.3876e-10, 1.1593e-10, 9.9419e-11],\n",
       "          [1.4116e-10, 2.4969e-11, 2.7618e-10, 2.2608e-11, 7.6915e-12],\n",
       "          [4.0137e-11, 1.1612e-10, 4.8964e-11, 8.6511e-11, 3.5409e-11],\n",
       "          [5.4826e-11, 1.0801e-10, 6.0109e-10, 1.0994e-10, 7.3884e-12],\n",
       "          [1.5430e-11, 2.5465e-11, 9.6083e-11, 1.4908e-11, 3.3675e-10],\n",
       "          [8.2322e-12, 5.9154e-11, 5.8213e-11, 4.7129e-11, 4.8330e-11],\n",
       "          [1.9675e-11, 4.0167e-11, 9.0348e-12, 6.1975e-11, 2.0537e-10]])},\n",
       " 2: {'step': tensor(20.),\n",
       "  'exp_avg': tensor([-7.8806e-05, -4.2109e-04,  7.2866e-06, -1.3327e-04,  1.2297e-04,\n",
       "           4.8208e-05, -7.4364e-05, -2.8601e-04, -5.7177e-05,  1.0625e-04,\n",
       "           1.1627e-05, -1.1641e-03, -1.3461e-04,  2.1983e-05, -3.5134e-04,\n",
       "          -2.7619e-04, -4.9787e-04,  8.5086e-05, -2.4663e-04,  1.5547e-04]),\n",
       "  'exp_avg_sq': tensor([6.1311e-10, 4.4571e-09, 4.2968e-09, 4.4797e-10, 7.3685e-10, 3.8355e-10,\n",
       "          2.4922e-10, 1.1595e-08, 1.0447e-10, 3.1539e-10, 6.9076e-09, 8.9458e-08,\n",
       "          1.3819e-07, 1.2351e-10, 3.2895e-09, 2.0060e-09, 6.0630e-09, 2.6793e-09,\n",
       "          1.5683e-09, 7.0096e-10])},\n",
       " 3: {'step': tensor(20.),\n",
       "  'exp_avg': tensor([-7.8806e-05, -4.2109e-04,  7.2866e-06, -1.3327e-04,  1.2297e-04,\n",
       "           4.8208e-05, -7.4364e-05, -2.8601e-04, -5.7177e-05,  1.0625e-04,\n",
       "           1.1627e-05, -1.1641e-03, -1.3461e-04,  2.1983e-05, -3.5134e-04,\n",
       "          -2.7619e-04, -4.9787e-04,  8.5086e-05, -2.4663e-04,  1.5547e-04]),\n",
       "  'exp_avg_sq': tensor([6.1311e-10, 4.4571e-09, 4.2968e-09, 4.4797e-10, 7.3685e-10, 3.8355e-10,\n",
       "          2.4922e-10, 1.1595e-08, 1.0447e-10, 3.1539e-10, 6.9076e-09, 8.9458e-08,\n",
       "          1.3819e-07, 1.2351e-10, 3.2895e-09, 2.0060e-09, 6.0630e-09, 2.6793e-09,\n",
       "          1.5683e-09, 7.0096e-10])},\n",
       " 4: {'step': tensor(20.),\n",
       "  'exp_avg': tensor([[ 0.0000e+00,  0.0000e+00,  0.0000e+00,  0.0000e+00,  0.0000e+00],\n",
       "          [ 1.5908e-03, -1.5093e-03,  1.3528e-03,  3.2919e-04,  4.7198e-04],\n",
       "          [ 0.0000e+00,  0.0000e+00,  0.0000e+00,  0.0000e+00,  0.0000e+00],\n",
       "          [ 1.6625e-05,  8.2612e-06, -5.5519e-05,  9.9172e-06, -2.1273e-06],\n",
       "          [-1.0634e-03,  3.1341e-03,  6.3123e-04,  1.3679e-03, -1.3272e-03]]),\n",
       "  'exp_avg_sq': tensor([[0.0000e+00, 0.0000e+00, 0.0000e+00, 0.0000e+00, 0.0000e+00],\n",
       "          [6.7696e-08, 7.1229e-08, 5.2363e-08, 6.2000e-09, 6.9356e-08],\n",
       "          [0.0000e+00, 0.0000e+00, 0.0000e+00, 0.0000e+00, 0.0000e+00],\n",
       "          [1.3454e-10, 7.5016e-12, 1.7020e-10, 6.8364e-12, 1.9613e-11],\n",
       "          [3.4051e-08, 2.4511e-07, 2.7050e-08, 9.7873e-08, 1.1261e-07]])},\n",
       " 5: {'step': tensor(20.),\n",
       "  'exp_avg': tensor([ 0.0000e+00,  9.8815e-04,  0.0000e+00,  6.8426e-06, -7.6559e-04]),\n",
       "  'exp_avg_sq': tensor([0.0000e+00, 1.0759e-06, 0.0000e+00, 1.8236e-09, 3.5574e-07])},\n",
       " 6: {'step': tensor(20.),\n",
       "  'exp_avg': tensor([[ 0.0000e+00,  4.5076e-04,  0.0000e+00, -3.5156e-05, -4.5292e-03],\n",
       "          [ 0.0000e+00,  2.5415e-03,  0.0000e+00,  1.3831e-05, -7.1224e-04],\n",
       "          [ 0.0000e+00, -3.0145e-03,  0.0000e+00,  1.2852e-05,  2.9404e-03],\n",
       "          [ 0.0000e+00,  2.2285e-05,  0.0000e+00,  8.4728e-06,  2.3010e-03]]),\n",
       "  'exp_avg_sq': tensor([[0.0000e+00, 8.8905e-08, 0.0000e+00, 5.4419e-11, 5.4409e-07],\n",
       "          [0.0000e+00, 1.6643e-07, 0.0000e+00, 8.4160e-12, 4.0826e-07],\n",
       "          [0.0000e+00, 2.2832e-07, 0.0000e+00, 7.2749e-12, 7.9498e-07],\n",
       "          [0.0000e+00, 7.1748e-08, 0.0000e+00, 3.1931e-12, 1.2803e-07]])},\n",
       " 7: {'step': tensor(20.),\n",
       "  'exp_avg': tensor([-0.0048, -0.0014,  0.0020,  0.0041]),\n",
       "  'exp_avg_sq': tensor([1.8690e-06, 2.9607e-06, 4.7988e-06, 8.9066e-07])}}"
      ]
     },
     "execution_count": 35,
     "metadata": {},
     "output_type": "execute_result"
    }
   ],
   "source": [
    "# print(optimizer.state_dict().keys())\n",
    "optimizer.state_dict()['state']"
   ]
  },
  {
   "cell_type": "code",
   "execution_count": 52,
   "id": "234b25ae-5978-40ed-a6c7-33c9fa332bdc",
   "metadata": {},
   "outputs": [],
   "source": [
    "def save_checkpoint(model_dict, optimizer, epoch, loss, path):\n",
    "    '''\n",
    "    Save the states model, optimizer, loss, epoch\n",
    "    '''\n",
    "    path = path\n",
    "    model_checkpoint  = {\n",
    "        'endcoing_model_state_dict': model_dict['endcoing_model'].state_dict(),\n",
    "        'cls_model_state_dict': model_dict['cls_model'].state_dict(),\n",
    "        'optimizer_state_dict': optimizer.state_dict(),\n",
    "        'epoch': epoch,\n",
    "        'loss': loss\n",
    "    }\n",
    "    new_path = f'model_checkpoint_{epoch}.pth'\n",
    "    path = path/new_path\n",
    "    torch.save(model_checkpoint, path)\n",
    "    print(f'Model Checkpoint {epoch}')\n",
    "    "
   ]
  },
  {
   "cell_type": "code",
   "execution_count": null,
   "id": "2adebefc-b517-484e-a306-6d2bcfa6ba21",
   "metadata": {},
   "outputs": [],
   "source": [
    "def load_checkpoint(model, optimizer, path):\n",
    "    checkpoint = torch.load(path)\n",
    "    model.load_state_dict(checkpoint['model_state_dict'])\n",
    "    optimizer.load_state_dict(checkpoint['optimizer_state_dict'])\n",
    "    epoch = checkpoint['epoch']\n",
    "    loss = checkpoint['loss']\n",
    "    return "
   ]
  },
  {
   "cell_type": "code",
   "execution_count": 24,
   "id": "92c38434-0277-4fb6-a391-6771a9d7b1cd",
   "metadata": {},
   "outputs": [],
   "source": [
    "import matplotlib.pyplot as plt\n",
    "import numpy as np"
   ]
  },
  {
   "cell_type": "code",
   "execution_count": 26,
   "id": "e02e19d3-9d61-4051-81b5-f053673cc385",
   "metadata": {},
   "outputs": [],
   "source": [
    "plt.style.use('Solarize_Light2')"
   ]
  },
  {
   "cell_type": "code",
   "execution_count": 56,
   "id": "f3bd0dda-7332-4db6-844b-954563f6c17f",
   "metadata": {},
   "outputs": [
    {
     "data": {
      "image/png": "[encoded data removed]",
      "text/plain": [
       "<Figure size 600x400 with 1 Axes>"
      ]
     },
     "metadata": {},
     "output_type": "display_data"
    }
   ],
   "source": [
    "ylim = 1.45\n",
    "train_loss = hist_dict['train_loss']\n",
    "test_loss = hist_dict['test_loss']\n",
    "epochs_list = np.linspace(1,NUM_EPOCHS, NUM_EPOCHS, dtype = int)\n",
    "fig, ax = plt.subplots(figsize = (6, 4))\n",
    "ax.plot(epochs_list,train_loss, label = 'train loss')\n",
    "ax.plot(epochs_list,test_loss, label = 'test loss')\n",
    "ax.legend()\n",
    "ax.set_ylim(top =ylim)\n",
    "ax.set_xlabel('Epochs')\n",
    "ax.set_ylabel('Loss')\n",
    "ax.set_title('Loss vs Epochs')\n",
    "plt.show()"
   ]
  },
  {
   "cell_type": "code",
   "execution_count": 38,
   "id": "5badcbed-386f-4d29-ad25-159e159a9554",
   "metadata": {},
   "outputs": [],
   "source": [
    "from pathlib import Path\n",
    "import os"
   ]
  },
  {
   "cell_type": "code",
   "execution_count": 33,
   "id": "61847f93-08c7-4869-9a51-cb91aa1f621e",
   "metadata": {},
   "outputs": [],
   "source": [
    "# data_path = Path(os.getcwd()).parents[0]/'data/data(5-95).npy'"
   ]
  },
  {
   "cell_type": "code",
   "execution_count": 34,
   "id": "3ea8e848-2699-4420-9fde-01a0416f847c",
   "metadata": {},
   "outputs": [],
   "source": [
    "# data = np.load(data_path)"
   ]
  },
  {
   "cell_type": "code",
   "execution_count": 47,
   "id": "1ad51891-330c-4a2e-9079-f0aa92ac5a55",
   "metadata": {},
   "outputs": [],
   "source": [
    "num = 1\n",
    "new_path = f'model_checkpoint_{1}.pth'"
   ]
  },
  {
   "cell_type": "code",
   "execution_count": 48,
   "id": "be81b46e-1c3c-4e27-bccb-506000f14e84",
   "metadata": {},
   "outputs": [
    {
     "data": {
      "text/plain": [
       "'model_checkpoint_1.pth'"
      ]
     },
     "execution_count": 48,
     "metadata": {},
     "output_type": "execute_result"
    }
   ],
   "source": [
    "new_path"
   ]
  },
  {
   "cell_type": "code",
   "execution_count": 51,
   "id": "ed45e8f4-b34b-4653-ab98-1b6ca7879b6b",
   "metadata": {},
   "outputs": [
    {
     "data": {
      "text/plain": [
       "WindowsPath('C:/Users/Abhishek Rathore/Desktop/Paper & Code/EEG_BiLSTM/model_checkpoint_1.pth')"
      ]
     },
     "execution_count": 51,
     "metadata": {},
     "output_type": "execute_result"
    }
   ],
   "source": [
    "Path(os.getcwd()).parents[0]/new_path"
   ]
  },
  {
   "cell_type": "code",
   "execution_count": null,
   "id": "6cf5e067-eb89-487c-b2b2-4d61d33679d4",
   "metadata": {},
   "outputs": [],
   "source": []
  }
 ],
 "metadata": {
  "kernelspec": {
   "display_name": "Python 3 (ipykernel)",
   "language": "python",
   "name": "python3"
  },
  "language_info": {
   "codemirror_mode": {
    "name": "ipython",
    "version": 3
   },
   "file_extension": ".py",
   "mimetype": "text/x-python",
   "name": "python",
   "nbconvert_exporter": "python",
   "pygments_lexer": "ipython3",
   "version": "3.11.5"
  }
 },
 "nbformat": 4,
 "nbformat_minor": 5
}
