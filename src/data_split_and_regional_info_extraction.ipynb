{
 "cells": [
  {
   "cell_type": "code",
   "execution_count": 4,
   "id": "06f0bd23-f007-4b4e-adc0-595dd5bcfaba",
   "metadata": {},
   "outputs": [],
   "source": [
    "from pathlib import Path\n",
    "from glob import glob\n",
    "import pickle\n",
    "import numpy as np\n",
    "import os"
   ]
  },
  {
   "cell_type": "code",
   "execution_count": 5,
   "id": "2ec0f9bb-a532-481b-85c5-2b091137312c",
   "metadata": {},
   "outputs": [
    {
     "name": "stdout",
     "output_type": "stream",
     "text": [
      "/home/arnav/Disk/abhishek/Code/EEG_BiLSTM/data/Channel_lateralization_map.npy\n",
      "/home/arnav/Disk/abhishek/Code/EEG_BiLSTM/data/data(5-95).npy\n",
      "/home/arnav/Disk/abhishek/Code/EEG_BiLSTM/data/data(5-95)_old.npy\n",
      "/home/arnav/Disk/abhishek/Code/EEG_BiLSTM/data/label.npy\n"
     ]
    }
   ],
   "source": [
    "path = f\"{Path(os.getcwd()).parents[0]}/data/*.npy\"\n",
    "for path_name in glob(path):\n",
    "    print(path_name)"
   ]
  },
  {
   "cell_type": "code",
   "execution_count": 9,
   "id": "ec0c62ff-3644-42fe-9576-f491e1e89131",
   "metadata": {},
   "outputs": [],
   "source": [
    "data_path = glob(path)[1]\n",
    "label_path = glob(path)[3]\n",
    "\n",
    "data = np.load(data_path)\n",
    "label = np.load(label_path)"
   ]
  },
  {
   "cell_type": "code",
   "execution_count": 12,
   "id": "8bacb232-4443-40cd-8740-65199472ffed",
   "metadata": {},
   "outputs": [],
   "source": [
    "import pandas as pd\n",
    "label_df = pd.DataFrame(label, columns = [\"cls\"])"
   ]
  },
  {
   "cell_type": "code",
   "execution_count": 37,
   "id": "0b30a85f-9071-483a-964e-91b081a53072",
   "metadata": {},
   "outputs": [],
   "source": [
    "a = list(label_df[\"cls\"].value_counts().index)\n",
    "a.sort()"
   ]
  },
  {
   "cell_type": "code",
   "execution_count": null,
   "id": "520646f1-55ae-4bc9-98ba-8523dbab3c4f",
   "metadata": {},
   "outputs": [],
   "source": [
    "a"
   ]
  },
  {
   "cell_type": "code",
   "execution_count": 4,
   "id": "734d2962-a3eb-429e-9ef4-968a6a5802a8",
   "metadata": {},
   "outputs": [
    {
     "name": "stdout",
     "output_type": "stream",
     "text": [
      "/home/arnav/Disk/abhishek/Code/EEG_BiLSTM/data/lat_dict.pkl\n"
     ]
    }
   ],
   "source": [
    "lat_dict_path = Path(os.getcwd()).parents[0]/\"data/lat_dict.pkl\"\n",
    "print(lat_dict_path)\n",
    "with open(lat_dict_path, \"rb\") as fp:\n",
    "   lat_dict = pickle.load(fp)"
   ]
  },
  {
   "cell_type": "markdown",
   "id": "c53f8d2a-f213-45bd-a995-d90b42249bc2",
   "metadata": {},
   "source": [
    "## Parameters"
   ]
  },
  {
   "cell_type": "code",
   "execution_count": 5,
   "id": "3d1df362-e44c-4056-a39a-318775c5f82d",
   "metadata": {},
   "outputs": [],
   "source": [
    "from utils import regional_info_extraction"
   ]
  },
  {
   "cell_type": "code",
   "execution_count": 6,
   "id": "0f3227ef-5cf4-4506-b012-102fea4134d6",
   "metadata": {},
   "outputs": [
    {
     "name": "stdout",
     "output_type": "stream",
     "text": [
      "Feature Extraction Module Output Shape(No. Feature): 85\n"
     ]
    }
   ],
   "source": [
    "feature_extraction_shape = len(lat_dict[\"left_hms\"])+len(lat_dict[\"middle_hms\"])\n",
    "print(f'Feature Extraction Module Output Shape(No. Feature): {feature_extraction_shape}')"
   ]
  },
  {
   "cell_type": "code",
   "execution_count": 7,
   "id": "2c18a69e-d28a-4875-8547-4775327a49c6",
   "metadata": {},
   "outputs": [],
   "source": [
    "regional_info_transform = regional_info_extraction(**lat_dict)\n",
    "data_ = regional_info_transform.fit_transform(data)"
   ]
  },
  {
   "cell_type": "code",
   "execution_count": 8,
   "id": "433184eb-b8a5-45ee-a769-c08833e00157",
   "metadata": {},
   "outputs": [
    {
     "data": {
      "text/plain": [
       "11964"
      ]
     },
     "execution_count": 8,
     "metadata": {},
     "output_type": "execute_result"
    }
   ],
   "source": [
    "num_samples =data_.shape[0]\n",
    "num_samples"
   ]
  },
  {
   "cell_type": "code",
   "execution_count": 9,
   "id": "9f68d27f-d457-451d-a46d-a28b60957978",
   "metadata": {},
   "outputs": [],
   "source": [
    "train_frac = 0.90\n",
    "test_frac = 0.10"
   ]
  },
  {
   "cell_type": "code",
   "execution_count": 10,
   "id": "386fdf40-adc2-4de6-8020-27f2747df218",
   "metadata": {},
   "outputs": [
    {
     "name": "stdout",
     "output_type": "stream",
     "text": [
      "Train size: 8375\n",
      "Test size: 3589\n"
     ]
    }
   ],
   "source": [
    "train_size = round(num_samples*train_frac)\n",
    "test_size = num_samples - train_size\n",
    "print(f\"Train size: {train_size}\")\n",
    "print(f\"Test size: {test_size}\")"
   ]
  },
  {
   "cell_type": "markdown",
   "id": "38c2c709-8939-4836-9474-6eb567b42c9c",
   "metadata": {},
   "source": [
    "## Train/Test Split"
   ]
  },
  {
   "cell_type": "code",
   "execution_count": 63,
   "id": "ebe571f9-1ddc-44a4-9fd0-e00ec406fac4",
   "metadata": {},
   "outputs": [
    {
     "name": "stdout",
     "output_type": "stream",
     "text": [
      "Train Size: X (8375, 440, 85) || y (8375,)\n",
      "Test Size: X (3589, 440, 85) || y (3589,)\n"
     ]
    }
   ],
   "source": [
    "# Train\n",
    "X_train = data_[:train_size]\n",
    "y_train = label[:train_size]\n",
    "print(f\"Train Size: X {X_train.shape} || y {y_train.shape}\")\n",
    "\n",
    "\n",
    "#Test\n",
    "X_test = data_[train_size :]\n",
    "y_test = label[train_size :]\n",
    "print(f\"Test Size: X {X_test.shape} || y {y_test.shape}\")"
   ]
  },
  {
   "cell_type": "code",
   "execution_count": null,
   "id": "622d92b3-12cf-440a-b37e-8f88f144aaf5",
   "metadata": {},
   "outputs": [],
   "source": []
  },
  {
   "cell_type": "code",
   "execution_count": 64,
   "id": "58bd9017-747e-4722-b1bd-4e02f41a528d",
   "metadata": {},
   "outputs": [],
   "source": [
    "pro_data_label_dict = {\n",
    "    \"train\": {\n",
    "        \"X\": X_train,\n",
    "        \"y\": y_train\n",
    "    },\n",
    "    \"test\" : {\n",
    "        \"X\" : X_test,\n",
    "        \"y\" : y_test\n",
    "    }\n",
    "}"
   ]
  },
  {
   "cell_type": "code",
   "execution_count": 70,
   "id": "fde348da-ee6c-4d6f-ac51-9fafae014fe1",
   "metadata": {},
   "outputs": [],
   "source": [
    "with open(f\"{Path(os.getcwd()).parents[0]}/data/train_test_data.pkl\", \"wb\") as f:\n",
    "           pickle.dump(pro_data_label_dict, f)"
   ]
  },
  {
   "cell_type": "code",
   "execution_count": null,
   "id": "9701e62c-37d2-436b-9ff9-35f7ef8eaaa6",
   "metadata": {},
   "outputs": [],
   "source": []
  }
 ],
 "metadata": {
  "kernelspec": {
   "display_name": "Python 3 (ipykernel)",
   "language": "python",
   "name": "python3"
  },
  "language_info": {
   "codemirror_mode": {
    "name": "ipython",
    "version": 3
   },
   "file_extension": ".py",
   "mimetype": "text/x-python",
   "name": "python",
   "nbconvert_exporter": "python",
   "pygments_lexer": "ipython3",
   "version": "3.11.7"
  }
 },
 "nbformat": 4,
 "nbformat_minor": 5
}
